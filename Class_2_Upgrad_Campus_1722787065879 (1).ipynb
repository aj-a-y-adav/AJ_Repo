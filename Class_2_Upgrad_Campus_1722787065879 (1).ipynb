{
 "cells": [
  {
   "cell_type": "code",
   "execution_count": 11,
   "id": "226aea58-9661-43dc-8087-9d8ef84c4186",
   "metadata": {},
   "outputs": [],
   "source": [
    "studentname = 'Kavya'"
   ]
  },
  {
   "cell_type": "code",
   "execution_count": 13,
   "id": "d246edbe-ade0-4edd-aa27-3d31d61cc500",
   "metadata": {},
   "outputs": [
    {
     "data": {
      "text/plain": [
       "str"
      ]
     },
     "execution_count": 13,
     "metadata": {},
     "output_type": "execute_result"
    }
   ],
   "source": [
    "type(studentname)"
   ]
  },
  {
   "cell_type": "code",
   "execution_count": 21,
   "id": "071c479e-ebe2-4243-9b22-532fd2996d9e",
   "metadata": {},
   "outputs": [],
   "source": [
    "studentmarks = 95.5"
   ]
  },
  {
   "cell_type": "code",
   "execution_count": 23,
   "id": "74fa03c2-1149-4fb5-96a5-803f5baed52a",
   "metadata": {},
   "outputs": [
    {
     "data": {
      "text/plain": [
       "float"
      ]
     },
     "execution_count": 23,
     "metadata": {},
     "output_type": "execute_result"
    }
   ],
   "source": [
    "type(studentmarks)"
   ]
  },
  {
   "cell_type": "code",
   "execution_count": 37,
   "id": "517b148d-6c4c-43eb-8412-32e75cade973",
   "metadata": {},
   "outputs": [],
   "source": [
    "name = 'Ritika$'"
   ]
  },
  {
   "cell_type": "code",
   "execution_count": 41,
   "id": "c1b0f70d-198a-458f-a804-8eb01b78aa20",
   "metadata": {},
   "outputs": [
    {
     "data": {
      "text/plain": [
       "'Ritika$'"
      ]
     },
     "execution_count": 41,
     "metadata": {},
     "output_type": "execute_result"
    }
   ],
   "source": [
    "name"
   ]
  },
  {
   "cell_type": "code",
   "execution_count": 39,
   "id": "fe7387c2-313f-4384-8426-ac9090951a74",
   "metadata": {},
   "outputs": [
    {
     "data": {
      "text/plain": [
       "str"
      ]
     },
     "execution_count": 39,
     "metadata": {},
     "output_type": "execute_result"
    }
   ],
   "source": [
    "type(name)"
   ]
  },
  {
   "cell_type": "code",
   "execution_count": 33,
   "id": "f5db05c6-917e-4ccb-a7b0-31c0a7d6813e",
   "metadata": {},
   "outputs": [],
   "source": [
    "age = 20.5"
   ]
  },
  {
   "cell_type": "code",
   "execution_count": 35,
   "id": "e8398bf0-8e56-48c6-ad43-58e38b22e110",
   "metadata": {},
   "outputs": [
    {
     "data": {
      "text/plain": [
       "float"
      ]
     },
     "execution_count": 35,
     "metadata": {},
     "output_type": "execute_result"
    }
   ],
   "source": [
    "type(age)"
   ]
  },
  {
   "cell_type": "code",
   "execution_count": 45,
   "id": "66c4882a-3bf3-43da-a03e-019e8c842864",
   "metadata": {},
   "outputs": [],
   "source": [
    "name = 'rahul 20.5'"
   ]
  },
  {
   "cell_type": "code",
   "execution_count": 49,
   "id": "9a6e6804-cd74-44b5-a7e7-1591fa957a79",
   "metadata": {},
   "outputs": [
    {
     "data": {
      "text/plain": [
       "str"
      ]
     },
     "execution_count": 49,
     "metadata": {},
     "output_type": "execute_result"
    }
   ],
   "source": [
    "type(name)"
   ]
  },
  {
   "cell_type": "code",
   "execution_count": null,
   "id": "cc70b41f-27c2-4d47-ba49-9cce25cfbebd",
   "metadata": {},
   "outputs": [],
   "source": [
    "name = 'rahul'"
   ]
  },
  {
   "cell_type": "code",
   "execution_count": 53,
   "id": "0c888c2e-e29c-49a8-9f96-6a3808e9d1c0",
   "metadata": {},
   "outputs": [],
   "source": [
    "rahul = 'Tiwari'"
   ]
  },
  {
   "cell_type": "code",
   "execution_count": 55,
   "id": "6dcb78dd-30f0-49a8-9f62-d4be1cb89440",
   "metadata": {},
   "outputs": [],
   "source": [
    "name = rahul"
   ]
  },
  {
   "cell_type": "code",
   "execution_count": 57,
   "id": "b5285f10-7113-4057-a487-e3a03da4280b",
   "metadata": {},
   "outputs": [
    {
     "data": {
      "text/plain": [
       "'Tiwari'"
      ]
     },
     "execution_count": 57,
     "metadata": {},
     "output_type": "execute_result"
    }
   ],
   "source": [
    "name"
   ]
  },
  {
   "cell_type": "code",
   "execution_count": 59,
   "id": "4dca43fb-e370-4aa9-9dbd-975760408280",
   "metadata": {},
   "outputs": [],
   "source": [
    "name = 'Ritika'"
   ]
  },
  {
   "cell_type": "code",
   "execution_count": 61,
   "id": "51385bd5-398b-4aaf-a03b-04c696a9cac0",
   "metadata": {},
   "outputs": [
    {
     "data": {
      "text/plain": [
       "'Ritika'"
      ]
     },
     "execution_count": 61,
     "metadata": {},
     "output_type": "execute_result"
    }
   ],
   "source": [
    "name"
   ]
  },
  {
   "cell_type": "code",
   "execution_count": 63,
   "id": "8dcc9b12-1e6f-4e8f-a8df-8822d5ba6e8d",
   "metadata": {},
   "outputs": [
    {
     "data": {
      "text/plain": [
       "'Kavya'"
      ]
     },
     "execution_count": 63,
     "metadata": {},
     "output_type": "execute_result"
    }
   ],
   "source": [
    "studentname"
   ]
  },
  {
   "cell_type": "code",
   "execution_count": 65,
   "id": "394b46d5-3d84-43fc-ad59-7a34a969bb75",
   "metadata": {},
   "outputs": [
    {
     "data": {
      "text/plain": [
       "'Ritika'"
      ]
     },
     "execution_count": 65,
     "metadata": {},
     "output_type": "execute_result"
    }
   ],
   "source": [
    "name"
   ]
  },
  {
   "cell_type": "code",
   "execution_count": 67,
   "id": "2db6d640-190e-41f6-8781-26c79566f5c2",
   "metadata": {},
   "outputs": [
    {
     "data": {
      "text/plain": [
       "'Tiwari'"
      ]
     },
     "execution_count": 67,
     "metadata": {},
     "output_type": "execute_result"
    }
   ],
   "source": [
    "rahul"
   ]
  },
  {
   "cell_type": "code",
   "execution_count": 71,
   "id": "5cf56329-c6f5-4113-a948-7ee3058a0973",
   "metadata": {},
   "outputs": [],
   "source": [
    "isstudentpass = False"
   ]
  },
  {
   "cell_type": "code",
   "execution_count": 77,
   "id": "424e4a9a-f36e-4ea3-a78f-2e1ab1534a63",
   "metadata": {},
   "outputs": [
    {
     "data": {
      "text/plain": [
       "bool"
      ]
     },
     "execution_count": 77,
     "metadata": {},
     "output_type": "execute_result"
    }
   ],
   "source": [
    "type(isstudentpass)"
   ]
  },
  {
   "cell_type": "code",
   "execution_count": 79,
   "id": "76899e1d-df2a-4fa2-baa8-d0d5a3caf438",
   "metadata": {},
   "outputs": [],
   "source": [
    "name = 'Rahul'"
   ]
  },
  {
   "cell_type": "code",
   "execution_count": 81,
   "id": "4b0f3861-888e-4153-b597-e52577d78c92",
   "metadata": {},
   "outputs": [],
   "source": [
    "_name = 'Bipin'"
   ]
  },
  {
   "cell_type": "code",
   "execution_count": 83,
   "id": "7bbe6023-3ce3-4b2b-84c6-55a5eaaa32c5",
   "metadata": {},
   "outputs": [],
   "source": [
    "name_ = 'Ritika'"
   ]
  },
  {
   "cell_type": "code",
   "execution_count": 85,
   "id": "cc76483f-c3f3-4e77-a2b3-a96436084f5e",
   "metadata": {},
   "outputs": [],
   "source": [
    "na_me = 'Shweta'"
   ]
  },
  {
   "cell_type": "code",
   "execution_count": 89,
   "id": "a2009e83-5455-4082-9dbc-cee0742184f6",
   "metadata": {},
   "outputs": [],
   "source": [
    "na12me34 = 'Rahul'"
   ]
  },
  {
   "cell_type": "code",
   "execution_count": 91,
   "id": "20c515c6-8591-435c-890b-7e12ae865b53",
   "metadata": {},
   "outputs": [
    {
     "data": {
      "text/plain": [
       "'Rahul'"
      ]
     },
     "execution_count": 91,
     "metadata": {},
     "output_type": "execute_result"
    }
   ],
   "source": [
    "na12me34"
   ]
  },
  {
   "cell_type": "code",
   "execution_count": 93,
   "id": "06fc4fa0-d017-4c37-95b4-61c6ad0bb7e7",
   "metadata": {},
   "outputs": [
    {
     "ename": "SyntaxError",
     "evalue": "invalid syntax (2736796073.py, line 1)",
     "output_type": "error",
     "traceback": [
      "\u001b[1;36m  Cell \u001b[1;32mIn[93], line 1\u001b[1;36m\u001b[0m\n\u001b[1;33m    $name = 'Rahul'\u001b[0m\n\u001b[1;37m    ^\u001b[0m\n\u001b[1;31mSyntaxError\u001b[0m\u001b[1;31m:\u001b[0m invalid syntax\n"
     ]
    }
   ],
   "source": [
    "$name = 'Rahul'"
   ]
  },
  {
   "cell_type": "code",
   "execution_count": 97,
   "id": "45bf9717-a6e0-46e8-80b9-ec2ac321b4aa",
   "metadata": {},
   "outputs": [],
   "source": [
    "age = 94"
   ]
  },
  {
   "cell_type": "code",
   "execution_count": 99,
   "id": "c3d965af-36a8-417a-b2fb-fc29dbc865d4",
   "metadata": {},
   "outputs": [],
   "source": [
    "age = 20"
   ]
  },
  {
   "cell_type": "code",
   "execution_count": 101,
   "id": "a9b39406-661e-49c9-be40-74d79d18fd8f",
   "metadata": {},
   "outputs": [],
   "source": [
    "AGE = 30"
   ]
  },
  {
   "cell_type": "code",
   "execution_count": 103,
   "id": "c42dc7d7-140a-4455-8f00-c45f7a82299b",
   "metadata": {},
   "outputs": [
    {
     "data": {
      "text/plain": [
       "20"
      ]
     },
     "execution_count": 103,
     "metadata": {},
     "output_type": "execute_result"
    }
   ],
   "source": [
    "age"
   ]
  },
  {
   "cell_type": "code",
   "execution_count": 121,
   "id": "66f94a21-0113-4725-a5b7-08cd42eecb89",
   "metadata": {},
   "outputs": [
    {
     "data": {
      "text/plain": [
       "30"
      ]
     },
     "execution_count": 121,
     "metadata": {},
     "output_type": "execute_result"
    }
   ],
   "source": [
    "AGE\n",
    "#case sensitive programming language - Comment"
   ]
  },
  {
   "cell_type": "code",
   "execution_count": 109,
   "id": "8144a3e2-c26e-4f7a-b8b2-c521f196d85f",
   "metadata": {},
   "outputs": [
    {
     "data": {
      "text/plain": [
       "20"
      ]
     },
     "execution_count": 109,
     "metadata": {},
     "output_type": "execute_result"
    }
   ],
   "source": [
    "age"
   ]
  },
  {
   "cell_type": "code",
   "execution_count": 111,
   "id": "a62c312e-56a1-4e3f-983a-892011215557",
   "metadata": {},
   "outputs": [
    {
     "data": {
      "text/plain": [
       "30"
      ]
     },
     "execution_count": 111,
     "metadata": {},
     "output_type": "execute_result"
    }
   ],
   "source": [
    "AGE"
   ]
  },
  {
   "cell_type": "code",
   "execution_count": 113,
   "id": "a5488381-e208-4246-8688-2b6db2969525",
   "metadata": {},
   "outputs": [],
   "source": [
    "Age = 40"
   ]
  },
  {
   "cell_type": "code",
   "execution_count": 115,
   "id": "eb629ad9-974e-4e60-ba35-c9b7112436d3",
   "metadata": {},
   "outputs": [
    {
     "data": {
      "text/plain": [
       "40"
      ]
     },
     "execution_count": 115,
     "metadata": {},
     "output_type": "execute_result"
    }
   ],
   "source": [
    "Age"
   ]
  },
  {
   "cell_type": "code",
   "execution_count": 125,
   "id": "fda31ec7-5ab2-4acd-8ea5-0799925bbb86",
   "metadata": {},
   "outputs": [],
   "source": [
    "student_name = 'Rahul'"
   ]
  },
  {
   "cell_type": "code",
   "execution_count": 127,
   "id": "a28eda06-87a8-4f09-852f-404b76f46b54",
   "metadata": {},
   "outputs": [
    {
     "data": {
      "text/plain": [
       "'Rahul'"
      ]
     },
     "execution_count": 127,
     "metadata": {},
     "output_type": "execute_result"
    }
   ],
   "source": [
    "student_name"
   ]
  },
  {
   "cell_type": "code",
   "execution_count": 131,
   "id": "9a9d184c-536e-4b42-8000-b81849d9a0be",
   "metadata": {},
   "outputs": [],
   "source": [
    "For = 'Rahul'"
   ]
  },
  {
   "cell_type": "code",
   "execution_count": 133,
   "id": "8ba32147-7588-4bb7-8560-8df0f2e393c7",
   "metadata": {},
   "outputs": [
    {
     "data": {
      "text/plain": [
       "'Rahul'"
      ]
     },
     "execution_count": 133,
     "metadata": {},
     "output_type": "execute_result"
    }
   ],
   "source": [
    "For"
   ]
  },
  {
   "cell_type": "code",
   "execution_count": 135,
   "id": "56d94e06-c244-460b-943d-55d8df07417a",
   "metadata": {},
   "outputs": [
    {
     "data": {
      "text/plain": [
       "['False',\n",
       " 'None',\n",
       " 'True',\n",
       " 'and',\n",
       " 'as',\n",
       " 'assert',\n",
       " 'async',\n",
       " 'await',\n",
       " 'break',\n",
       " 'class',\n",
       " 'continue',\n",
       " 'def',\n",
       " 'del',\n",
       " 'elif',\n",
       " 'else',\n",
       " 'except',\n",
       " 'finally',\n",
       " 'for',\n",
       " 'from',\n",
       " 'global',\n",
       " 'if',\n",
       " 'import',\n",
       " 'in',\n",
       " 'is',\n",
       " 'lambda',\n",
       " 'nonlocal',\n",
       " 'not',\n",
       " 'or',\n",
       " 'pass',\n",
       " 'raise',\n",
       " 'return',\n",
       " 'try',\n",
       " 'while',\n",
       " 'with',\n",
       " 'yield']"
      ]
     },
     "execution_count": 135,
     "metadata": {},
     "output_type": "execute_result"
    }
   ],
   "source": [
    "import keyword\n",
    "keyword.kwlist"
   ]
  },
  {
   "cell_type": "code",
   "execution_count": 139,
   "id": "e7988854-9235-4512-92f9-0f11d6fe5d35",
   "metadata": {},
   "outputs": [],
   "source": [
    "TRUE = 'Rahul'"
   ]
  },
  {
   "cell_type": "code",
   "execution_count": null,
   "id": "6d698a50-70cf-4f13-a25d-40014616949e",
   "metadata": {},
   "outputs": [],
   "source": [
    "35 keywords we cannot use as a variable name "
   ]
  },
  {
   "cell_type": "code",
   "execution_count": 149,
   "id": "3065a1c8-9c1c-4dff-b0f6-dbd5e9c51bf3",
   "metadata": {},
   "outputs": [],
   "source": [
    "INTERESTRATE = 5"
   ]
  },
  {
   "cell_type": "code",
   "execution_count": 163,
   "id": "645de4f3-a595-4fa0-8f7c-6c219cec62b8",
   "metadata": {},
   "outputs": [],
   "source": [
    "name = 'Rahul'"
   ]
  },
  {
   "cell_type": "code",
   "execution_count": 167,
   "id": "7c907cb2-c4c4-409b-9b16-3ea43ff57d49",
   "metadata": {},
   "outputs": [
    {
     "data": {
      "text/plain": [
       "2186006898672"
      ]
     },
     "execution_count": 167,
     "metadata": {},
     "output_type": "execute_result"
    }
   ],
   "source": [
    "id(name)"
   ]
  },
  {
   "cell_type": "code",
   "execution_count": 169,
   "id": "f21ae26f-58b5-4472-8702-c1fee11c5841",
   "metadata": {},
   "outputs": [],
   "source": [
    "name = 'Kavya'"
   ]
  },
  {
   "cell_type": "code",
   "execution_count": 171,
   "id": "c14a6af1-d5c3-453b-bded-b5b81c49fc50",
   "metadata": {},
   "outputs": [
    {
     "data": {
      "text/plain": [
       "2185935748000"
      ]
     },
     "execution_count": 171,
     "metadata": {},
     "output_type": "execute_result"
    }
   ],
   "source": [
    "id(name)"
   ]
  },
  {
   "cell_type": "code",
   "execution_count": 159,
   "id": "ec7bed05-18e7-41d2-9e7f-5667a1c6bd4a",
   "metadata": {},
   "outputs": [],
   "source": [
    "output = id(name)"
   ]
  },
  {
   "cell_type": "code",
   "execution_count": 165,
   "id": "f50c6515-aaa5-4ddd-81f9-eba6ea806eb6",
   "metadata": {},
   "outputs": [
    {
     "data": {
      "text/plain": [
       "2185935748000"
      ]
     },
     "execution_count": 165,
     "metadata": {},
     "output_type": "execute_result"
    }
   ],
   "source": [
    "output"
   ]
  },
  {
   "cell_type": "code",
   "execution_count": 161,
   "id": "239f813f-ac47-4b4f-adca-efd867f5a0eb",
   "metadata": {},
   "outputs": [
    {
     "data": {
      "text/plain": [
       "2185935748000"
      ]
     },
     "execution_count": 161,
     "metadata": {},
     "output_type": "execute_result"
    }
   ],
   "source": [
    "output"
   ]
  },
  {
   "cell_type": "code",
   "execution_count": 155,
   "id": "03e46106-b764-4a96-aa6f-0df48ff3fe91",
   "metadata": {},
   "outputs": [],
   "source": [
    "student_name = 'Ritika'"
   ]
  },
  {
   "cell_type": "code",
   "execution_count": 157,
   "id": "1dd0d20c-4759-475d-8b9b-eb78fc9a3d81",
   "metadata": {},
   "outputs": [
    {
     "data": {
      "text/plain": [
       "2185959256640"
      ]
     },
     "execution_count": 157,
     "metadata": {},
     "output_type": "execute_result"
    }
   ],
   "source": [
    "id(student_name)"
   ]
  },
  {
   "cell_type": "code",
   "execution_count": 173,
   "id": "51594c39-4ac5-4f51-b2a9-023b74e1007d",
   "metadata": {},
   "outputs": [
    {
     "data": {
      "text/plain": [
       "2186021010144"
      ]
     },
     "execution_count": 173,
     "metadata": {},
     "output_type": "execute_result"
    }
   ],
   "source": [
    "name = 'Vinay'\n",
    "id(name)"
   ]
  },
  {
   "cell_type": "code",
   "execution_count": 175,
   "id": "847ad983-b254-435c-b6c6-98924a65bb80",
   "metadata": {},
   "outputs": [
    {
     "data": {
      "text/plain": [
       "2186020998816"
      ]
     },
     "execution_count": 175,
     "metadata": {},
     "output_type": "execute_result"
    }
   ],
   "source": [
    "name = 'Atharv'\n",
    "id(name)"
   ]
  },
  {
   "cell_type": "code",
   "execution_count": 177,
   "id": "6005e724-c932-4569-b08e-af05c70c0386",
   "metadata": {},
   "outputs": [
    {
     "data": {
      "text/plain": [
       "'Atharv'"
      ]
     },
     "execution_count": 177,
     "metadata": {},
     "output_type": "execute_result"
    }
   ],
   "source": [
    "name"
   ]
  },
  {
   "cell_type": "code",
   "execution_count": 179,
   "id": "db284c9c-7684-4798-a19f-051774de2305",
   "metadata": {},
   "outputs": [
    {
     "name": "stdin",
     "output_type": "stream",
     "text": [
      "Enter the name:  Rahul\n"
     ]
    },
    {
     "data": {
      "text/plain": [
       "'Rahul'"
      ]
     },
     "execution_count": 179,
     "metadata": {},
     "output_type": "execute_result"
    }
   ],
   "source": [
    "name = input('Enter the name')\n",
    "name"
   ]
  },
  {
   "cell_type": "code",
   "execution_count": 211,
   "id": "f5c1a155-69aa-4874-9b5a-d01e908f3d82",
   "metadata": {},
   "outputs": [
    {
     "name": "stdin",
     "output_type": "stream",
     "text": [
      "Enter the age 38.5\n"
     ]
    },
    {
     "ename": "ValueError",
     "evalue": "invalid literal for int() with base 10: '38.5'",
     "output_type": "error",
     "traceback": [
      "\u001b[1;31m---------------------------------------------------------------------------\u001b[0m",
      "\u001b[1;31mValueError\u001b[0m                                Traceback (most recent call last)",
      "Cell \u001b[1;32mIn[211], line 1\u001b[0m\n\u001b[1;32m----> 1\u001b[0m age \u001b[38;5;241m=\u001b[39m \u001b[38;5;28mint\u001b[39m(\u001b[38;5;28minput\u001b[39m(\u001b[38;5;124m'\u001b[39m\u001b[38;5;124mEnter the age\u001b[39m\u001b[38;5;124m'\u001b[39m))\n\u001b[0;32m      2\u001b[0m age\n",
      "\u001b[1;31mValueError\u001b[0m: invalid literal for int() with base 10: '38.5'"
     ]
    }
   ],
   "source": [
    "age = int(input('Enter the age'))\n",
    "age"
   ]
  },
  {
   "cell_type": "code",
   "execution_count": 203,
   "id": "0250dc3d-0c1a-4bf4-9c13-1369b5b66f30",
   "metadata": {},
   "outputs": [
    {
     "data": {
      "text/plain": [
       "float"
      ]
     },
     "execution_count": 203,
     "metadata": {},
     "output_type": "execute_result"
    }
   ],
   "source": [
    "type(age)"
   ]
  },
  {
   "cell_type": "code",
   "execution_count": 193,
   "id": "fd64d24f-c0aa-44a3-a954-e2f90b4977cb",
   "metadata": {},
   "outputs": [
    {
     "data": {
      "text/plain": [
       "'True'"
      ]
     },
     "execution_count": 193,
     "metadata": {},
     "output_type": "execute_result"
    }
   ],
   "source": [
    "age"
   ]
  },
  {
   "cell_type": "code",
   "execution_count": null,
   "id": "4e63d927-d02f-4086-b81e-896e785e1f2d",
   "metadata": {},
   "outputs": [],
   "source": [
    "We can only convert int to float and not float to int"
   ]
  },
  {
   "cell_type": "code",
   "execution_count": 209,
   "id": "cd9c14fd-b23f-45f1-baa3-904e7d8f8c74",
   "metadata": {},
   "outputs": [
    {
     "data": {
      "text/plain": [
       "38"
      ]
     },
     "execution_count": 209,
     "metadata": {},
     "output_type": "execute_result"
    }
   ],
   "source": [
    "int(38.5)"
   ]
  },
  {
   "cell_type": "code",
   "execution_count": 213,
   "id": "46333d89-00be-4e1b-9490-a45db98c4d35",
   "metadata": {},
   "outputs": [
    {
     "name": "stdin",
     "output_type": "stream",
     "text": [
      "Enter the age 38.5\n"
     ]
    },
    {
     "data": {
      "text/plain": [
       "38"
      ]
     },
     "execution_count": 213,
     "metadata": {},
     "output_type": "execute_result"
    }
   ],
   "source": [
    "age = float(input('Enter the age'))\n",
    "int(age)"
   ]
  },
  {
   "cell_type": "code",
   "execution_count": 217,
   "id": "9cc129fb-e7fa-43f2-8eb5-776f6a579a46",
   "metadata": {},
   "outputs": [
    {
     "name": "stdout",
     "output_type": "stream",
     "text": [
      "Rahul\n",
      "38\n",
      "male\n"
     ]
    }
   ],
   "source": [
    "name = 'Rahul'\n",
    "age = 38\n",
    "gender = 'male'\n",
    "print(name)\n",
    "print(age)\n",
    "print(gender)"
   ]
  },
  {
   "cell_type": "code",
   "execution_count": 227,
   "id": "01825dc6-976e-450f-a94e-7233ce7d7623",
   "metadata": {},
   "outputs": [
    {
     "name": "stdout",
     "output_type": "stream",
     "text": [
      "My name is Rahul , my age is 38 , my gender is male\n"
     ]
    }
   ],
   "source": [
    "print('My name is', name, ', my age is', age, ', my gender is', gender)"
   ]
  },
  {
   "cell_type": "code",
   "execution_count": 253,
   "id": "1ba353a1-3d80-4d0f-8b27-d214c2290a82",
   "metadata": {},
   "outputs": [
    {
     "name": "stdout",
     "output_type": "stream",
     "text": [
      "Hi, How are you? How is the class going on?Hope it is going good"
     ]
    }
   ],
   "source": [
    "print('Hi, How are you?',end=' ')\n",
    "#\\n - New Line character\n",
    "print('How is the class going on?', end='')\n",
    "print('Hope it is going good', end= '' )"
   ]
  },
  {
   "cell_type": "code",
   "execution_count": 267,
   "id": "2593d839-2008-4e68-9de9-2884783a4f4b",
   "metadata": {},
   "outputs": [
    {
     "name": "stdout",
     "output_type": "stream",
     "text": [
      "Hi, How are you?\n",
      " How is the class going on?\n",
      " Hope it is going good\n"
     ]
    }
   ],
   "source": [
    "print('Hi, How are you?\\n', 'How is the class going on?\\n','Hope it is going good')"
   ]
  },
  {
   "cell_type": "code",
   "execution_count": 263,
   "id": "21dcb97d-91df-4a54-8e12-6d519b28e23b",
   "metadata": {},
   "outputs": [
    {
     "name": "stdout",
     "output_type": "stream",
     "text": [
      "Rahul, Tiwari, Data Scientist\n"
     ]
    }
   ],
   "source": [
    "print('Rahul,', 'Tiwari,', 'Data Scientist')"
   ]
  },
  {
   "cell_type": "code",
   "execution_count": 269,
   "id": "1e97e97e-5357-486d-84ea-807df7c022ac",
   "metadata": {},
   "outputs": [],
   "source": [
    "import math"
   ]
  },
  {
   "cell_type": "code",
   "execution_count": 289,
   "id": "68ebdd99-3d26-4715-8cd7-6ab80eed301d",
   "metadata": {},
   "outputs": [
    {
     "data": {
      "text/plain": [
       "3.872983346207417"
      ]
     },
     "execution_count": 289,
     "metadata": {},
     "output_type": "execute_result"
    }
   ],
   "source": [
    "math.sqrt(15)"
   ]
  },
  {
   "cell_type": "code",
   "execution_count": 275,
   "id": "62d38483-dc6b-4aae-8e95-5a4f821494fb",
   "metadata": {},
   "outputs": [
    {
     "data": {
      "text/plain": [
       "120"
      ]
     },
     "execution_count": 275,
     "metadata": {},
     "output_type": "execute_result"
    }
   ],
   "source": [
    "math.factorial(5)"
   ]
  },
  {
   "cell_type": "code",
   "execution_count": 281,
   "id": "f9e9b220-2f69-4eb9-a042-0f0ac5a255fa",
   "metadata": {},
   "outputs": [
    {
     "data": {
      "text/plain": [
       "3.141592653589793"
      ]
     },
     "execution_count": 281,
     "metadata": {},
     "output_type": "execute_result"
    }
   ],
   "source": [
    "math.pi"
   ]
  },
  {
   "cell_type": "code",
   "execution_count": 291,
   "id": "a3b2750f-dae6-43ba-bb94-bbccbe3f6ddc",
   "metadata": {},
   "outputs": [
    {
     "name": "stdout",
     "output_type": "stream",
     "text": [
      "3.1622776601683795\n"
     ]
    }
   ],
   "source": [
    "print(math.sqrt(10))"
   ]
  },
  {
   "cell_type": "code",
   "execution_count": 295,
   "id": "119b14b9-78b3-4756-918d-ad23be06309d",
   "metadata": {},
   "outputs": [
    {
     "data": {
      "text/plain": [
       "120"
      ]
     },
     "execution_count": 295,
     "metadata": {},
     "output_type": "execute_result"
    }
   ],
   "source": [
    "math.factorial(5)"
   ]
  },
  {
   "cell_type": "code",
   "execution_count": 297,
   "id": "25476f01-eb9c-4cec-a71e-303c033dfe1c",
   "metadata": {},
   "outputs": [
    {
     "ename": "TypeError",
     "evalue": "'float' object cannot be interpreted as an integer",
     "output_type": "error",
     "traceback": [
      "\u001b[1;31m---------------------------------------------------------------------------\u001b[0m",
      "\u001b[1;31mTypeError\u001b[0m                                 Traceback (most recent call last)",
      "Cell \u001b[1;32mIn[297], line 1\u001b[0m\n\u001b[1;32m----> 1\u001b[0m math\u001b[38;5;241m.\u001b[39mfactorial(math\u001b[38;5;241m.\u001b[39msqrt(\u001b[38;5;241m100\u001b[39m))\n",
      "\u001b[1;31mTypeError\u001b[0m: 'float' object cannot be interpreted as an integer"
     ]
    }
   ],
   "source": [
    "math.factorial(math.sqrt(100))"
   ]
  },
  {
   "cell_type": "code",
   "execution_count": 299,
   "id": "cddc03fd-dc56-46ab-b0a0-a7a225fc5bb0",
   "metadata": {},
   "outputs": [
    {
     "data": {
      "text/plain": [
       "9.66054943799493e+78"
      ]
     },
     "execution_count": 299,
     "metadata": {},
     "output_type": "execute_result"
    }
   ],
   "source": [
    "math.sqrt(math.factorial(100))"
   ]
  },
  {
   "cell_type": "code",
   "execution_count": 319,
   "id": "7f25c0c5-dba9-4f1a-bbbb-57964cf64168",
   "metadata": {},
   "outputs": [
    {
     "name": "stdin",
     "output_type": "stream",
     "text": [
      "Enter the first number:  10\n",
      "Enter the second number:  5\n"
     ]
    },
    {
     "name": "stdout",
     "output_type": "stream",
     "text": [
      "15\n",
      "5\n",
      "50\n",
      "2.0\n",
      "2\n",
      "0\n",
      "100000\n"
     ]
    }
   ],
   "source": [
    "num1 = int(input('Enter the first number: '))\n",
    "num2 = int(input('Enter the second number: '))\n",
    "print(num1+num2)\n",
    "print(num1-num2)\n",
    "print(num1*num2)\n",
    "print(num1/num2)\n",
    "print(num1//num2)\n",
    "print(num1%num2)\n",
    "print(num1**num2)"
   ]
  },
  {
   "cell_type": "code",
   "execution_count": 309,
   "id": "46327133-7a06-40db-98d7-28219d322824",
   "metadata": {},
   "outputs": [
    {
     "name": "stdin",
     "output_type": "stream",
     "text": [
      "Enter the first number:  10\n",
      "Enter the second number:  3\n"
     ]
    },
    {
     "name": "stdout",
     "output_type": "stream",
     "text": [
      "103\n"
     ]
    }
   ],
   "source": [
    "num1 = (input('Enter the first number: '))\n",
    "num2 = (input('Enter the second number: '))\n",
    "print(num1+num2)"
   ]
  },
  {
   "cell_type": "code",
   "execution_count": 311,
   "id": "79df54d6-a410-4108-9818-5a53d33f14f3",
   "metadata": {},
   "outputs": [
    {
     "data": {
      "text/plain": [
       "'10'"
      ]
     },
     "execution_count": 311,
     "metadata": {},
     "output_type": "execute_result"
    }
   ],
   "source": [
    "num1"
   ]
  },
  {
   "cell_type": "code",
   "execution_count": 313,
   "id": "4f7e8da1-f684-41ef-9f83-514bfad4fe9c",
   "metadata": {},
   "outputs": [
    {
     "data": {
      "text/plain": [
       "'3'"
      ]
     },
     "execution_count": 313,
     "metadata": {},
     "output_type": "execute_result"
    }
   ],
   "source": [
    "num2"
   ]
  },
  {
   "cell_type": "code",
   "execution_count": 315,
   "id": "cf9ea5fe-086c-4eec-9855-61f803d1d1b0",
   "metadata": {},
   "outputs": [
    {
     "data": {
      "text/plain": [
       "'rahulTiwari'"
      ]
     },
     "execution_count": 315,
     "metadata": {},
     "output_type": "execute_result"
    }
   ],
   "source": [
    "'rahul' + 'Tiwari'"
   ]
  },
  {
   "cell_type": "code",
   "execution_count": 317,
   "id": "65f8aebd-eb53-4f2d-9a3b-b22368e5af38",
   "metadata": {},
   "outputs": [
    {
     "data": {
      "text/plain": [
       "'103'"
      ]
     },
     "execution_count": 317,
     "metadata": {},
     "output_type": "execute_result"
    }
   ],
   "source": [
    "num1+num2"
   ]
  },
  {
   "cell_type": "code",
   "execution_count": 325,
   "id": "62bcf960-3487-48b2-9e33-289163514fe8",
   "metadata": {},
   "outputs": [
    {
     "data": {
      "text/plain": [
       "200"
      ]
     },
     "execution_count": 325,
     "metadata": {},
     "output_type": "execute_result"
    }
   ],
   "source": [
    "num1 = 10\n",
    "num1 *= 20\n",
    "num1"
   ]
  },
  {
   "cell_type": "code",
   "execution_count": 337,
   "id": "4f68a702-8ebd-4317-9935-a0e1d4bcce01",
   "metadata": {},
   "outputs": [
    {
     "name": "stdout",
     "output_type": "stream",
     "text": [
      "True\n",
      "True\n",
      "False\n",
      "False\n",
      "False\n",
      "True\n"
     ]
    }
   ],
   "source": [
    "num1 = 10\n",
    "num2 = 3\n",
    "print(num1>num2)\n",
    "print(num1>=num2)\n",
    "print(num1<num2)\n",
    "print(num1<=num2)\n",
    "print(num1==num2)\n",
    "print(num1!=num2)"
   ]
  },
  {
   "cell_type": "code",
   "execution_count": 351,
   "id": "66192bbb-5c26-4e48-924a-a73e82edf87a",
   "metadata": {},
   "outputs": [
    {
     "name": "stdout",
     "output_type": "stream",
     "text": [
      "True\n"
     ]
    }
   ],
   "source": [
    "num1 = 10\n",
    "num2 = 3\n",
    "print(not((num1>20) and (num2>5)))"
   ]
  },
  {
   "cell_type": "code",
   "execution_count": 353,
   "id": "3743a4e5-3a94-4126-b850-32e0510233b2",
   "metadata": {},
   "outputs": [
    {
     "data": {
      "text/plain": [
       "False"
      ]
     },
     "execution_count": 353,
     "metadata": {},
     "output_type": "execute_result"
    }
   ],
   "source": [
    "not(True)"
   ]
  },
  {
   "cell_type": "code",
   "execution_count": 359,
   "id": "b41ceff9-c5bb-458b-b69d-b0efc68ce39b",
   "metadata": {},
   "outputs": [
    {
     "data": {
      "text/plain": [
       "True"
      ]
     },
     "execution_count": 359,
     "metadata": {},
     "output_type": "execute_result"
    }
   ],
   "source": [
    "list1 = [1,2,3,4,5]\n",
    "10 not in list1"
   ]
  },
  {
   "cell_type": "code",
   "execution_count": 361,
   "id": "9fd25630-3ff6-4747-891e-63c780b732ea",
   "metadata": {},
   "outputs": [
    {
     "data": {
      "text/plain": [
       "2186021010144"
      ]
     },
     "execution_count": 361,
     "metadata": {},
     "output_type": "execute_result"
    }
   ],
   "source": [
    "name = 'Vinay'\n",
    "id(name)"
   ]
  },
  {
   "cell_type": "code",
   "execution_count": 363,
   "id": "8822b302-8b7e-4e86-97d3-137edaff7a9c",
   "metadata": {},
   "outputs": [
    {
     "data": {
      "text/plain": [
       "2186006898672"
      ]
     },
     "execution_count": 363,
     "metadata": {},
     "output_type": "execute_result"
    }
   ],
   "source": [
    "name = 'Rahul'\n",
    "id(name)"
   ]
  },
  {
   "cell_type": "code",
   "execution_count": 365,
   "id": "366ce804-ee62-4915-a277-106e508fb6e8",
   "metadata": {},
   "outputs": [],
   "source": [
    "name = 'Rahul'\n",
    "studentname = \"Kavya\""
   ]
  },
  {
   "cell_type": "code",
   "execution_count": 371,
   "id": "1d2ba818-e0ba-43d2-9059-500bc8717d57",
   "metadata": {},
   "outputs": [
    {
     "name": "stdout",
     "output_type": "stream",
     "text": [
      "Rahul\n"
     ]
    }
   ],
   "source": [
    "print(name)"
   ]
  },
  {
   "cell_type": "code",
   "execution_count": 369,
   "id": "06ecdecc-b15e-4202-83e6-b5ff2f9188ab",
   "metadata": {},
   "outputs": [
    {
     "data": {
      "text/plain": [
       "'Kavya'"
      ]
     },
     "execution_count": 369,
     "metadata": {},
     "output_type": "execute_result"
    }
   ],
   "source": [
    "studentname"
   ]
  },
  {
   "cell_type": "code",
   "execution_count": 393,
   "id": "b4e92c81-df1b-4307-ba11-ca8f56235c0b",
   "metadata": {},
   "outputs": [],
   "source": [
    "resume = ''' This is rahul\n",
    "he is a data scientist\n",
    "he is in Gurgaon '''"
   ]
  },
  {
   "cell_type": "code",
   "execution_count": 395,
   "id": "1f859c2f-ccde-4bc5-850f-d6571dd7e152",
   "metadata": {},
   "outputs": [
    {
     "data": {
      "text/plain": [
       "' This is rahul\\nhe is a data scientist\\nhe is in Gurgaon '"
      ]
     },
     "execution_count": 395,
     "metadata": {},
     "output_type": "execute_result"
    }
   ],
   "source": [
    "resume"
   ]
  },
  {
   "cell_type": "code",
   "execution_count": 379,
   "id": "37c4cf59-7430-4aa5-9bff-4d760feeede4",
   "metadata": {},
   "outputs": [],
   "source": [
    "resume = \"\"\"This is rahul\n",
    "he is a data scientist\n",
    "he is in gurgaon\"\"\""
   ]
  },
  {
   "cell_type": "code",
   "execution_count": 383,
   "id": "78e29708-a969-4ea9-bcb9-7e4385ab42ad",
   "metadata": {},
   "outputs": [
    {
     "name": "stdout",
     "output_type": "stream",
     "text": [
      "This is rahul\n",
      "he is a data scientist\n",
      "he is in gurgaon\n"
     ]
    }
   ],
   "source": [
    "print(resume)"
   ]
  },
  {
   "cell_type": "code",
   "execution_count": null,
   "id": "73a99999-25d2-4ed9-8461-64401f1091bf",
   "metadata": {},
   "outputs": [],
   "source": []
  },
  {
   "cell_type": "code",
   "execution_count": null,
   "id": "e69a07c5-b24d-4fdb-acb0-f931ea68354c",
   "metadata": {},
   "outputs": [],
   "source": []
  }
 ],
 "metadata": {
  "kernelspec": {
   "display_name": "Python 3 (ipykernel)",
   "language": "python",
   "name": "python3"
  },
  "language_info": {
   "codemirror_mode": {
    "name": "ipython",
    "version": 3
   },
   "file_extension": ".py",
   "mimetype": "text/x-python",
   "name": "python",
   "nbconvert_exporter": "python",
   "pygments_lexer": "ipython3",
   "version": "3.12.4"
  }
 },
 "nbformat": 4,
 "nbformat_minor": 5
}

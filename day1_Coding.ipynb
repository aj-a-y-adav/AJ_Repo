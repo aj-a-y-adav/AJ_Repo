{
 "cells": [
  {
   "cell_type": "code",
   "execution_count": 1,
   "id": "253eabd2-b187-4e36-a387-c106d78a858c",
   "metadata": {},
   "outputs": [],
   "source": [
    "import os"
   ]
  },
  {
   "cell_type": "code",
   "execution_count": 3,
   "id": "385a243d-817d-4523-ad18-b5b2e4133e75",
   "metadata": {},
   "outputs": [
    {
     "data": {
      "text/plain": [
       "'C:\\\\Users\\\\aj_a_.LAPTOP-S3M6NRBV'"
      ]
     },
     "execution_count": 3,
     "metadata": {},
     "output_type": "execute_result"
    }
   ],
   "source": [
    "os.getcwd()"
   ]
  },
  {
   "cell_type": "code",
   "execution_count": 15,
   "id": "9179b36d-2448-4160-9e32-c86275b73496",
   "metadata": {},
   "outputs": [],
   "source": [
    "os.chdir('C:\\\\Users\\\\aj_a_.LAPTOP-S3M6NRBV\\\\Downloads\\\\New folder')"
   ]
  },
  {
   "cell_type": "code",
   "execution_count": 17,
   "id": "bfb1c0d7-6ff1-44b4-9a81-00fc80000aa0",
   "metadata": {},
   "outputs": [
    {
     "data": {
      "text/plain": [
       "'C:\\\\Users\\\\aj_a_.LAPTOP-S3M6NRBV\\\\Downloads\\\\New folder'"
      ]
     },
     "execution_count": 17,
     "metadata": {},
     "output_type": "execute_result"
    }
   ],
   "source": [
    "os.getcwd()"
   ]
  },
  {
   "cell_type": "code",
   "execution_count": 27,
   "id": "5a5cda4c-20d1-4594-b88f-9f7d2add6c19",
   "metadata": {},
   "outputs": [
    {
     "data": {
      "text/html": [
       "<div>\n",
       "<style scoped>\n",
       "    .dataframe tbody tr th:only-of-type {\n",
       "        vertical-align: middle;\n",
       "    }\n",
       "\n",
       "    .dataframe tbody tr th {\n",
       "        vertical-align: top;\n",
       "    }\n",
       "\n",
       "    .dataframe thead th {\n",
       "        text-align: right;\n",
       "    }\n",
       "</style>\n",
       "<table border=\"1\" class=\"dataframe\">\n",
       "  <thead>\n",
       "    <tr style=\"text-align: right;\">\n",
       "      <th></th>\n",
       "      <th>reviewId</th>\n",
       "      <th>userName</th>\n",
       "      <th>content</th>\n",
       "      <th>score</th>\n",
       "      <th>thumbsUpCount</th>\n",
       "      <th>reviewCreatedVersion</th>\n",
       "      <th>at</th>\n",
       "      <th>appVersion</th>\n",
       "    </tr>\n",
       "  </thead>\n",
       "  <tbody>\n",
       "    <tr>\n",
       "      <th>0</th>\n",
       "      <td>ff5011aa-313b-4b18-91ae-e2c084f1603c</td>\n",
       "      <td>Jack Gibbons</td>\n",
       "      <td>The voice app doesn't work. Chatgpt is great b...</td>\n",
       "      <td>2</td>\n",
       "      <td>0</td>\n",
       "      <td>1.2024.206</td>\n",
       "      <td>2024-08-02 19:58:53</td>\n",
       "      <td>1.2024.206</td>\n",
       "    </tr>\n",
       "    <tr>\n",
       "      <th>1</th>\n",
       "      <td>3e196dc2-517c-4f99-94d1-1aca46b4d0b7</td>\n",
       "      <td>Adeche Augustina</td>\n",
       "      <td>Good and fast,</td>\n",
       "      <td>5</td>\n",
       "      <td>0</td>\n",
       "      <td>NaN</td>\n",
       "      <td>2024-08-02 19:58:50</td>\n",
       "      <td>NaN</td>\n",
       "    </tr>\n",
       "    <tr>\n",
       "      <th>2</th>\n",
       "      <td>27a5937a-9a95-4b91-a367-bbf27bd8ed3a</td>\n",
       "      <td>Negatu Kasaye</td>\n",
       "      <td>This app is very good for searching any thing ...</td>\n",
       "      <td>5</td>\n",
       "      <td>0</td>\n",
       "      <td>1.2024.206</td>\n",
       "      <td>2024-08-02 19:47:29</td>\n",
       "      <td>1.2024.206</td>\n",
       "    </tr>\n",
       "    <tr>\n",
       "      <th>3</th>\n",
       "      <td>0fd16f27-9f4d-4ca9-b846-994943a10411</td>\n",
       "      <td>TONY KWAS</td>\n",
       "      <td>Hi 👋 dev team please could you remove the info...</td>\n",
       "      <td>5</td>\n",
       "      <td>0</td>\n",
       "      <td>1.2024.206</td>\n",
       "      <td>2024-08-02 19:44:07</td>\n",
       "      <td>1.2024.206</td>\n",
       "    </tr>\n",
       "    <tr>\n",
       "      <th>4</th>\n",
       "      <td>bc27cca7-5354-4ae8-a11e-4bb721bf9bd4</td>\n",
       "      <td>rinder fabrice njapteh</td>\n",
       "      <td>it's awesome</td>\n",
       "      <td>5</td>\n",
       "      <td>0</td>\n",
       "      <td>1.2024.206</td>\n",
       "      <td>2024-08-02 19:41:51</td>\n",
       "      <td>1.2024.206</td>\n",
       "    </tr>\n",
       "    <tr>\n",
       "      <th>...</th>\n",
       "      <td>...</td>\n",
       "      <td>...</td>\n",
       "      <td>...</td>\n",
       "      <td>...</td>\n",
       "      <td>...</td>\n",
       "      <td>...</td>\n",
       "      <td>...</td>\n",
       "      <td>...</td>\n",
       "    </tr>\n",
       "    <tr>\n",
       "      <th>178164</th>\n",
       "      <td>462686ff-e500-413c-a6b4-2badc2e3b21d</td>\n",
       "      <td>m.santhosh Kumar</td>\n",
       "      <td>Update 2023</td>\n",
       "      <td>5</td>\n",
       "      <td>0</td>\n",
       "      <td>NaN</td>\n",
       "      <td>2023-07-27 16:26:31</td>\n",
       "      <td>NaN</td>\n",
       "    </tr>\n",
       "    <tr>\n",
       "      <th>178165</th>\n",
       "      <td>f10e0d48-ecb6-42db-b103-46c0046f9be9</td>\n",
       "      <td>Andrew Bourgeois</td>\n",
       "      <td>its grear</td>\n",
       "      <td>5</td>\n",
       "      <td>0</td>\n",
       "      <td>NaN</td>\n",
       "      <td>2023-09-23 16:25:18</td>\n",
       "      <td>NaN</td>\n",
       "    </tr>\n",
       "    <tr>\n",
       "      <th>178166</th>\n",
       "      <td>df909a49-90b5-4dac-9b89-c4bd5a7c2f75</td>\n",
       "      <td>Dern Bob</td>\n",
       "      <td>Funtastic App</td>\n",
       "      <td>5</td>\n",
       "      <td>0</td>\n",
       "      <td>NaN</td>\n",
       "      <td>2023-11-08 13:57:14</td>\n",
       "      <td>NaN</td>\n",
       "    </tr>\n",
       "    <tr>\n",
       "      <th>178167</th>\n",
       "      <td>abe43878-973f-4e96-a765-c4af5c7f7b20</td>\n",
       "      <td>Abdur rahman arif</td>\n",
       "      <td>hi all</td>\n",
       "      <td>5</td>\n",
       "      <td>0</td>\n",
       "      <td>NaN</td>\n",
       "      <td>2023-07-25 15:32:57</td>\n",
       "      <td>NaN</td>\n",
       "    </tr>\n",
       "    <tr>\n",
       "      <th>178168</th>\n",
       "      <td>0151001d-b81c-41b5-8927-f56738989625</td>\n",
       "      <td>Tushar Deran</td>\n",
       "      <td>expert application</td>\n",
       "      <td>5</td>\n",
       "      <td>0</td>\n",
       "      <td>NaN</td>\n",
       "      <td>2023-11-30 18:11:41</td>\n",
       "      <td>NaN</td>\n",
       "    </tr>\n",
       "  </tbody>\n",
       "</table>\n",
       "<p>178169 rows × 8 columns</p>\n",
       "</div>"
      ],
      "text/plain": [
       "                                    reviewId                userName  \\\n",
       "0       ff5011aa-313b-4b18-91ae-e2c084f1603c            Jack Gibbons   \n",
       "1       3e196dc2-517c-4f99-94d1-1aca46b4d0b7        Adeche Augustina   \n",
       "2       27a5937a-9a95-4b91-a367-bbf27bd8ed3a           Negatu Kasaye   \n",
       "3       0fd16f27-9f4d-4ca9-b846-994943a10411               TONY KWAS   \n",
       "4       bc27cca7-5354-4ae8-a11e-4bb721bf9bd4  rinder fabrice njapteh   \n",
       "...                                      ...                     ...   \n",
       "178164  462686ff-e500-413c-a6b4-2badc2e3b21d        m.santhosh Kumar   \n",
       "178165  f10e0d48-ecb6-42db-b103-46c0046f9be9        Andrew Bourgeois   \n",
       "178166  df909a49-90b5-4dac-9b89-c4bd5a7c2f75                Dern Bob   \n",
       "178167  abe43878-973f-4e96-a765-c4af5c7f7b20       Abdur rahman arif   \n",
       "178168  0151001d-b81c-41b5-8927-f56738989625            Tushar Deran   \n",
       "\n",
       "                                                  content  score  \\\n",
       "0       The voice app doesn't work. Chatgpt is great b...      2   \n",
       "1                                          Good and fast,      5   \n",
       "2       This app is very good for searching any thing ...      5   \n",
       "3       Hi 👋 dev team please could you remove the info...      5   \n",
       "4                                            it's awesome      5   \n",
       "...                                                   ...    ...   \n",
       "178164                                        Update 2023      5   \n",
       "178165                                          its grear      5   \n",
       "178166                                      Funtastic App      5   \n",
       "178167                                             hi all      5   \n",
       "178168                                 expert application      5   \n",
       "\n",
       "        thumbsUpCount reviewCreatedVersion                   at  appVersion  \n",
       "0                   0           1.2024.206  2024-08-02 19:58:53  1.2024.206  \n",
       "1                   0                  NaN  2024-08-02 19:58:50         NaN  \n",
       "2                   0           1.2024.206  2024-08-02 19:47:29  1.2024.206  \n",
       "3                   0           1.2024.206  2024-08-02 19:44:07  1.2024.206  \n",
       "4                   0           1.2024.206  2024-08-02 19:41:51  1.2024.206  \n",
       "...               ...                  ...                  ...         ...  \n",
       "178164              0                  NaN  2023-07-27 16:26:31         NaN  \n",
       "178165              0                  NaN  2023-09-23 16:25:18         NaN  \n",
       "178166              0                  NaN  2023-11-08 13:57:14         NaN  \n",
       "178167              0                  NaN  2023-07-25 15:32:57         NaN  \n",
       "178168              0                  NaN  2023-11-30 18:11:41         NaN  \n",
       "\n",
       "[178169 rows x 8 columns]"
      ]
     },
     "execution_count": 27,
     "metadata": {},
     "output_type": "execute_result"
    }
   ],
   "source": [
    "import pandas as pd\n",
    "pd.read_csv('chatgpt_reviews.csv')"
   ]
  },
  {
   "cell_type": "code",
   "execution_count": 29,
   "id": "5cf1f6b6-9a6d-4be4-95c0-3541d5aeba98",
   "metadata": {},
   "outputs": [],
   "source": [
    "os.chdir('C:\\\\Users\\\\aj_a_.LAPTOP-S3M6NRBV\\\\Downloads')"
   ]
  },
  {
   "cell_type": "code",
   "execution_count": 31,
   "id": "d1456ef8-3334-4370-86e9-5ae5e39d7cea",
   "metadata": {},
   "outputs": [
    {
     "data": {
      "text/plain": [
       "'C:\\\\Users\\\\aj_a_.LAPTOP-S3M6NRBV\\\\Downloads'"
      ]
     },
     "execution_count": 31,
     "metadata": {},
     "output_type": "execute_result"
    }
   ],
   "source": [
    "os.getcwd()"
   ]
  },
  {
   "cell_type": "code",
   "execution_count": 35,
   "id": "7ea9a49d-b7b9-4a3f-95a4-264691da87f0",
   "metadata": {},
   "outputs": [
    {
     "data": {
      "text/html": [
       "<div>\n",
       "<style scoped>\n",
       "    .dataframe tbody tr th:only-of-type {\n",
       "        vertical-align: middle;\n",
       "    }\n",
       "\n",
       "    .dataframe tbody tr th {\n",
       "        vertical-align: top;\n",
       "    }\n",
       "\n",
       "    .dataframe thead th {\n",
       "        text-align: right;\n",
       "    }\n",
       "</style>\n",
       "<table border=\"1\" class=\"dataframe\">\n",
       "  <thead>\n",
       "    <tr style=\"text-align: right;\">\n",
       "      <th></th>\n",
       "      <th>reviewId</th>\n",
       "      <th>userName</th>\n",
       "      <th>content</th>\n",
       "      <th>score</th>\n",
       "      <th>thumbsUpCount</th>\n",
       "      <th>reviewCreatedVersion</th>\n",
       "      <th>at</th>\n",
       "      <th>appVersion</th>\n",
       "    </tr>\n",
       "  </thead>\n",
       "  <tbody>\n",
       "    <tr>\n",
       "      <th>0</th>\n",
       "      <td>ff5011aa-313b-4b18-91ae-e2c084f1603c</td>\n",
       "      <td>Jack Gibbons</td>\n",
       "      <td>The voice app doesn't work. Chatgpt is great b...</td>\n",
       "      <td>2</td>\n",
       "      <td>0</td>\n",
       "      <td>1.2024.206</td>\n",
       "      <td>2024-08-02 19:58:53</td>\n",
       "      <td>1.2024.206</td>\n",
       "    </tr>\n",
       "    <tr>\n",
       "      <th>1</th>\n",
       "      <td>3e196dc2-517c-4f99-94d1-1aca46b4d0b7</td>\n",
       "      <td>Adeche Augustina</td>\n",
       "      <td>Good and fast,</td>\n",
       "      <td>5</td>\n",
       "      <td>0</td>\n",
       "      <td>NaN</td>\n",
       "      <td>2024-08-02 19:58:50</td>\n",
       "      <td>NaN</td>\n",
       "    </tr>\n",
       "    <tr>\n",
       "      <th>2</th>\n",
       "      <td>27a5937a-9a95-4b91-a367-bbf27bd8ed3a</td>\n",
       "      <td>Negatu Kasaye</td>\n",
       "      <td>This app is very good for searching any thing ...</td>\n",
       "      <td>5</td>\n",
       "      <td>0</td>\n",
       "      <td>1.2024.206</td>\n",
       "      <td>2024-08-02 19:47:29</td>\n",
       "      <td>1.2024.206</td>\n",
       "    </tr>\n",
       "    <tr>\n",
       "      <th>3</th>\n",
       "      <td>0fd16f27-9f4d-4ca9-b846-994943a10411</td>\n",
       "      <td>TONY KWAS</td>\n",
       "      <td>Hi 👋 dev team please could you remove the info...</td>\n",
       "      <td>5</td>\n",
       "      <td>0</td>\n",
       "      <td>1.2024.206</td>\n",
       "      <td>2024-08-02 19:44:07</td>\n",
       "      <td>1.2024.206</td>\n",
       "    </tr>\n",
       "    <tr>\n",
       "      <th>4</th>\n",
       "      <td>bc27cca7-5354-4ae8-a11e-4bb721bf9bd4</td>\n",
       "      <td>rinder fabrice njapteh</td>\n",
       "      <td>it's awesome</td>\n",
       "      <td>5</td>\n",
       "      <td>0</td>\n",
       "      <td>1.2024.206</td>\n",
       "      <td>2024-08-02 19:41:51</td>\n",
       "      <td>1.2024.206</td>\n",
       "    </tr>\n",
       "    <tr>\n",
       "      <th>...</th>\n",
       "      <td>...</td>\n",
       "      <td>...</td>\n",
       "      <td>...</td>\n",
       "      <td>...</td>\n",
       "      <td>...</td>\n",
       "      <td>...</td>\n",
       "      <td>...</td>\n",
       "      <td>...</td>\n",
       "    </tr>\n",
       "    <tr>\n",
       "      <th>178164</th>\n",
       "      <td>462686ff-e500-413c-a6b4-2badc2e3b21d</td>\n",
       "      <td>m.santhosh Kumar</td>\n",
       "      <td>Update 2023</td>\n",
       "      <td>5</td>\n",
       "      <td>0</td>\n",
       "      <td>NaN</td>\n",
       "      <td>2023-07-27 16:26:31</td>\n",
       "      <td>NaN</td>\n",
       "    </tr>\n",
       "    <tr>\n",
       "      <th>178165</th>\n",
       "      <td>f10e0d48-ecb6-42db-b103-46c0046f9be9</td>\n",
       "      <td>Andrew Bourgeois</td>\n",
       "      <td>its grear</td>\n",
       "      <td>5</td>\n",
       "      <td>0</td>\n",
       "      <td>NaN</td>\n",
       "      <td>2023-09-23 16:25:18</td>\n",
       "      <td>NaN</td>\n",
       "    </tr>\n",
       "    <tr>\n",
       "      <th>178166</th>\n",
       "      <td>df909a49-90b5-4dac-9b89-c4bd5a7c2f75</td>\n",
       "      <td>Dern Bob</td>\n",
       "      <td>Funtastic App</td>\n",
       "      <td>5</td>\n",
       "      <td>0</td>\n",
       "      <td>NaN</td>\n",
       "      <td>2023-11-08 13:57:14</td>\n",
       "      <td>NaN</td>\n",
       "    </tr>\n",
       "    <tr>\n",
       "      <th>178167</th>\n",
       "      <td>abe43878-973f-4e96-a765-c4af5c7f7b20</td>\n",
       "      <td>Abdur rahman arif</td>\n",
       "      <td>hi all</td>\n",
       "      <td>5</td>\n",
       "      <td>0</td>\n",
       "      <td>NaN</td>\n",
       "      <td>2023-07-25 15:32:57</td>\n",
       "      <td>NaN</td>\n",
       "    </tr>\n",
       "    <tr>\n",
       "      <th>178168</th>\n",
       "      <td>0151001d-b81c-41b5-8927-f56738989625</td>\n",
       "      <td>Tushar Deran</td>\n",
       "      <td>expert application</td>\n",
       "      <td>5</td>\n",
       "      <td>0</td>\n",
       "      <td>NaN</td>\n",
       "      <td>2023-11-30 18:11:41</td>\n",
       "      <td>NaN</td>\n",
       "    </tr>\n",
       "  </tbody>\n",
       "</table>\n",
       "<p>178169 rows × 8 columns</p>\n",
       "</div>"
      ],
      "text/plain": [
       "                                    reviewId                userName  \\\n",
       "0       ff5011aa-313b-4b18-91ae-e2c084f1603c            Jack Gibbons   \n",
       "1       3e196dc2-517c-4f99-94d1-1aca46b4d0b7        Adeche Augustina   \n",
       "2       27a5937a-9a95-4b91-a367-bbf27bd8ed3a           Negatu Kasaye   \n",
       "3       0fd16f27-9f4d-4ca9-b846-994943a10411               TONY KWAS   \n",
       "4       bc27cca7-5354-4ae8-a11e-4bb721bf9bd4  rinder fabrice njapteh   \n",
       "...                                      ...                     ...   \n",
       "178164  462686ff-e500-413c-a6b4-2badc2e3b21d        m.santhosh Kumar   \n",
       "178165  f10e0d48-ecb6-42db-b103-46c0046f9be9        Andrew Bourgeois   \n",
       "178166  df909a49-90b5-4dac-9b89-c4bd5a7c2f75                Dern Bob   \n",
       "178167  abe43878-973f-4e96-a765-c4af5c7f7b20       Abdur rahman arif   \n",
       "178168  0151001d-b81c-41b5-8927-f56738989625            Tushar Deran   \n",
       "\n",
       "                                                  content  score  \\\n",
       "0       The voice app doesn't work. Chatgpt is great b...      2   \n",
       "1                                          Good and fast,      5   \n",
       "2       This app is very good for searching any thing ...      5   \n",
       "3       Hi 👋 dev team please could you remove the info...      5   \n",
       "4                                            it's awesome      5   \n",
       "...                                                   ...    ...   \n",
       "178164                                        Update 2023      5   \n",
       "178165                                          its grear      5   \n",
       "178166                                      Funtastic App      5   \n",
       "178167                                             hi all      5   \n",
       "178168                                 expert application      5   \n",
       "\n",
       "        thumbsUpCount reviewCreatedVersion                   at  appVersion  \n",
       "0                   0           1.2024.206  2024-08-02 19:58:53  1.2024.206  \n",
       "1                   0                  NaN  2024-08-02 19:58:50         NaN  \n",
       "2                   0           1.2024.206  2024-08-02 19:47:29  1.2024.206  \n",
       "3                   0           1.2024.206  2024-08-02 19:44:07  1.2024.206  \n",
       "4                   0           1.2024.206  2024-08-02 19:41:51  1.2024.206  \n",
       "...               ...                  ...                  ...         ...  \n",
       "178164              0                  NaN  2023-07-27 16:26:31         NaN  \n",
       "178165              0                  NaN  2023-09-23 16:25:18         NaN  \n",
       "178166              0                  NaN  2023-11-08 13:57:14         NaN  \n",
       "178167              0                  NaN  2023-07-25 15:32:57         NaN  \n",
       "178168              0                  NaN  2023-11-30 18:11:41         NaN  \n",
       "\n",
       "[178169 rows x 8 columns]"
      ]
     },
     "execution_count": 35,
     "metadata": {},
     "output_type": "execute_result"
    }
   ],
   "source": [
    "pd.read_csv('chatgpt_reviews.csv')"
   ]
  },
  {
   "cell_type": "code",
   "execution_count": null,
   "id": "0145a695-a9af-486d-b833-ef6dfae4eae5",
   "metadata": {},
   "outputs": [],
   "source": []
  },
  {
   "cell_type": "code",
   "execution_count": null,
   "id": "edf76999-39c0-49be-ad40-ab19b6021f3d",
   "metadata": {},
   "outputs": [],
   "source": []
  },
  {
   "cell_type": "code",
   "execution_count": null,
   "id": "e133de3b-3fef-4fc0-ae54-84dd7e6f16f3",
   "metadata": {},
   "outputs": [],
   "source": []
  },
  {
   "cell_type": "code",
   "execution_count": null,
   "id": "6ad422f5-a4db-48ec-a81f-716094d68c2b",
   "metadata": {},
   "outputs": [],
   "source": []
  },
  {
   "cell_type": "code",
   "execution_count": null,
   "id": "079c1fc2-63ff-49db-81a2-9c9d646f6761",
   "metadata": {},
   "outputs": [],
   "source": []
  },
  {
   "cell_type": "code",
   "execution_count": null,
   "id": "b463eb62-a23d-4a9f-a281-72735e0a6f8c",
   "metadata": {},
   "outputs": [],
   "source": []
  },
  {
   "cell_type": "code",
   "execution_count": null,
   "id": "23575aca-edc6-47c7-9ef3-683b2fd09a59",
   "metadata": {},
   "outputs": [],
   "source": []
  },
  {
   "cell_type": "code",
   "execution_count": null,
   "id": "d2dd3a81-33d2-48eb-8ba4-7a250bb8d18d",
   "metadata": {},
   "outputs": [],
   "source": []
  },
  {
   "cell_type": "code",
   "execution_count": null,
   "id": "2987923f-adc6-4068-a014-1872768f264f",
   "metadata": {},
   "outputs": [],
   "source": []
  },
  {
   "cell_type": "code",
   "execution_count": null,
   "id": "2d3f9f3b-8b1a-40fd-910a-83c7c80f328c",
   "metadata": {},
   "outputs": [],
   "source": []
  },
  {
   "cell_type": "code",
   "execution_count": null,
   "id": "9d181e67-6e67-458c-8161-e2b8fe005be3",
   "metadata": {},
   "outputs": [],
   "source": []
  },
  {
   "cell_type": "code",
   "execution_count": null,
   "id": "8a4134de-6772-43b9-8791-59a54c050d90",
   "metadata": {},
   "outputs": [],
   "source": []
  },
  {
   "cell_type": "code",
   "execution_count": null,
   "id": "e4e725cb-2a9c-446b-83e3-3d4b97a09e90",
   "metadata": {},
   "outputs": [],
   "source": []
  },
  {
   "cell_type": "code",
   "execution_count": null,
   "id": "7a5d784e-f241-4528-9f5a-22ca5a1e863f",
   "metadata": {},
   "outputs": [],
   "source": []
  },
  {
   "cell_type": "code",
   "execution_count": null,
   "id": "69a5825f-4982-4883-b450-ba77eece9b25",
   "metadata": {},
   "outputs": [],
   "source": []
  },
  {
   "cell_type": "code",
   "execution_count": null,
   "id": "f77272db-2736-4407-8695-2c462a33f57d",
   "metadata": {},
   "outputs": [],
   "source": []
  },
  {
   "cell_type": "code",
   "execution_count": null,
   "id": "7f5553c2-84fe-4142-a574-b8c54d547398",
   "metadata": {},
   "outputs": [],
   "source": []
  },
  {
   "cell_type": "code",
   "execution_count": null,
   "id": "143c9c38-6313-4a68-80d4-6a0448106df1",
   "metadata": {},
   "outputs": [],
   "source": []
  },
  {
   "cell_type": "code",
   "execution_count": null,
   "id": "80fbad7d-eed4-48ce-994b-8bfa83fae29e",
   "metadata": {},
   "outputs": [],
   "source": []
  },
  {
   "cell_type": "code",
   "execution_count": null,
   "id": "ba1489c5-525a-4137-a65a-d6b2889d9b49",
   "metadata": {},
   "outputs": [],
   "source": []
  },
  {
   "cell_type": "code",
   "execution_count": null,
   "id": "03af3784-c38b-4ae0-ab61-6358ef29823c",
   "metadata": {},
   "outputs": [],
   "source": []
  },
  {
   "cell_type": "code",
   "execution_count": null,
   "id": "b66496b6-5d74-4066-b49c-c176346c6d4f",
   "metadata": {},
   "outputs": [],
   "source": []
  },
  {
   "cell_type": "code",
   "execution_count": null,
   "id": "73e3b260-83d0-492f-b2e3-e42d8d2d79f6",
   "metadata": {},
   "outputs": [],
   "source": []
  },
  {
   "cell_type": "code",
   "execution_count": null,
   "id": "7254fa3b-9d83-420d-b03e-fa1f166b7d58",
   "metadata": {},
   "outputs": [],
   "source": []
  },
  {
   "cell_type": "code",
   "execution_count": null,
   "id": "a4b4e8e1-c63b-4a09-8e86-a73870bf04ef",
   "metadata": {},
   "outputs": [],
   "source": []
  },
  {
   "cell_type": "code",
   "execution_count": null,
   "id": "5ad49756-3845-4c94-91e7-8a2c9d78ca58",
   "metadata": {},
   "outputs": [],
   "source": []
  },
  {
   "cell_type": "code",
   "execution_count": null,
   "id": "130389db-833b-45b2-b4f2-a34a815a8e9e",
   "metadata": {},
   "outputs": [],
   "source": []
  },
  {
   "cell_type": "code",
   "execution_count": null,
   "id": "4b5d546c-218f-457b-b20a-9b20694093a4",
   "metadata": {},
   "outputs": [],
   "source": []
  },
  {
   "cell_type": "code",
   "execution_count": null,
   "id": "e1cb20c5-d4f7-490a-84f9-0160cfc14f80",
   "metadata": {},
   "outputs": [],
   "source": []
  },
  {
   "cell_type": "code",
   "execution_count": null,
   "id": "09c790b3-cf79-4f17-945c-95df1da78709",
   "metadata": {},
   "outputs": [],
   "source": []
  },
  {
   "cell_type": "code",
   "execution_count": null,
   "id": "46c25d73-a236-4fc9-8e8b-3169d4d2a3a5",
   "metadata": {},
   "outputs": [],
   "source": []
  },
  {
   "cell_type": "code",
   "execution_count": null,
   "id": "4d9c791e-06a6-4a0b-800b-2b459955be13",
   "metadata": {},
   "outputs": [],
   "source": []
  },
  {
   "cell_type": "code",
   "execution_count": null,
   "id": "9d80bdec-8951-49c4-aa0a-1bc56544f915",
   "metadata": {},
   "outputs": [],
   "source": []
  },
  {
   "cell_type": "code",
   "execution_count": null,
   "id": "63c43d3b-8f6c-4872-bf73-5691bc766f35",
   "metadata": {},
   "outputs": [],
   "source": []
  },
  {
   "cell_type": "code",
   "execution_count": null,
   "id": "ad851971-5f37-4565-a69a-c75938e18037",
   "metadata": {},
   "outputs": [],
   "source": []
  },
  {
   "cell_type": "code",
   "execution_count": null,
   "id": "71deb7a3-42db-4418-8d32-a5369fee2270",
   "metadata": {},
   "outputs": [],
   "source": []
  },
  {
   "cell_type": "code",
   "execution_count": null,
   "id": "7224d3e3-8555-4d2c-9e20-3a0010bc50bb",
   "metadata": {},
   "outputs": [],
   "source": []
  },
  {
   "cell_type": "code",
   "execution_count": null,
   "id": "16a24b7d-7281-4a16-8519-c2cfdb34d946",
   "metadata": {},
   "outputs": [],
   "source": []
  },
  {
   "cell_type": "code",
   "execution_count": null,
   "id": "e12085d1-8c37-4e53-8243-4e8e0daa96f8",
   "metadata": {},
   "outputs": [],
   "source": []
  },
  {
   "cell_type": "code",
   "execution_count": null,
   "id": "1c4a2125-0052-4ff0-9aeb-52b6c09c33ad",
   "metadata": {},
   "outputs": [],
   "source": []
  },
  {
   "cell_type": "code",
   "execution_count": null,
   "id": "695fb15e-75b3-4767-a7f3-b2eb2131982b",
   "metadata": {},
   "outputs": [],
   "source": []
  },
  {
   "cell_type": "code",
   "execution_count": null,
   "id": "5b729781-e0dd-4d33-8c9a-ed2022b69a07",
   "metadata": {},
   "outputs": [],
   "source": []
  },
  {
   "cell_type": "code",
   "execution_count": null,
   "id": "5ea0b9b9-134b-4e61-8cee-c542b8caaaf3",
   "metadata": {},
   "outputs": [],
   "source": []
  },
  {
   "cell_type": "code",
   "execution_count": null,
   "id": "567b9299-f164-4493-baa4-45cca27437d1",
   "metadata": {},
   "outputs": [],
   "source": []
  },
  {
   "cell_type": "code",
   "execution_count": null,
   "id": "3c0ca5bd-0720-4c0f-8cc0-064f592e4b63",
   "metadata": {},
   "outputs": [],
   "source": []
  },
  {
   "cell_type": "code",
   "execution_count": null,
   "id": "83ab7d7b-57e3-47d7-9820-81c3f3dd3df0",
   "metadata": {},
   "outputs": [],
   "source": []
  },
  {
   "cell_type": "code",
   "execution_count": null,
   "id": "dd00e640-864c-41f2-956e-fe1ac3e504f0",
   "metadata": {},
   "outputs": [],
   "source": []
  },
  {
   "cell_type": "code",
   "execution_count": null,
   "id": "6264d8e8-3921-41e3-bacf-a0cc50ab2ded",
   "metadata": {},
   "outputs": [],
   "source": []
  },
  {
   "cell_type": "code",
   "execution_count": null,
   "id": "35b47184-98c9-4149-8c2f-474bdd443358",
   "metadata": {},
   "outputs": [],
   "source": []
  },
  {
   "cell_type": "code",
   "execution_count": null,
   "id": "4f8d9c80-62f7-4b22-8169-d8b27628b80b",
   "metadata": {},
   "outputs": [],
   "source": []
  },
  {
   "cell_type": "code",
   "execution_count": null,
   "id": "db21bb37-6d4c-40ac-9e90-f49c454793a2",
   "metadata": {},
   "outputs": [],
   "source": []
  },
  {
   "cell_type": "code",
   "execution_count": null,
   "id": "ba30042b-1d97-40fe-9d80-0b270ff248bc",
   "metadata": {},
   "outputs": [],
   "source": []
  },
  {
   "cell_type": "code",
   "execution_count": null,
   "id": "4d8c9c77-37bf-423a-b5fd-94d9d1892c5c",
   "metadata": {},
   "outputs": [],
   "source": []
  },
  {
   "cell_type": "code",
   "execution_count": null,
   "id": "dc0d10f6-d230-4595-abb3-659a19b382f8",
   "metadata": {},
   "outputs": [],
   "source": []
  },
  {
   "cell_type": "code",
   "execution_count": null,
   "id": "a7e3c7b7-1496-401e-a723-9af3aa490701",
   "metadata": {},
   "outputs": [],
   "source": []
  },
  {
   "cell_type": "code",
   "execution_count": null,
   "id": "9e1d78dd-8975-43b8-8663-12bcb39e19bd",
   "metadata": {},
   "outputs": [],
   "source": []
  },
  {
   "cell_type": "code",
   "execution_count": null,
   "id": "5e3cd2bb-8b11-4f37-b604-f53e1a15439f",
   "metadata": {},
   "outputs": [],
   "source": []
  },
  {
   "cell_type": "code",
   "execution_count": null,
   "id": "06e52dc5-5421-49e2-8cb1-d46f90e967d3",
   "metadata": {},
   "outputs": [],
   "source": []
  },
  {
   "cell_type": "code",
   "execution_count": null,
   "id": "962de7e7-ddd5-453d-aa7d-362e6c1df311",
   "metadata": {},
   "outputs": [],
   "source": []
  },
  {
   "cell_type": "code",
   "execution_count": null,
   "id": "969a93dd-3787-493b-9f1e-15d6a3f0aa25",
   "metadata": {},
   "outputs": [],
   "source": []
  },
  {
   "cell_type": "code",
   "execution_count": null,
   "id": "0d712c0f-0096-4104-9152-0dc7d7df29a4",
   "metadata": {},
   "outputs": [],
   "source": []
  },
  {
   "cell_type": "code",
   "execution_count": null,
   "id": "f753ccd3-fe3e-46de-b912-897d533c9b0a",
   "metadata": {},
   "outputs": [],
   "source": []
  },
  {
   "cell_type": "code",
   "execution_count": null,
   "id": "6a6f7bda-5163-43ea-804b-7932d73a5e10",
   "metadata": {},
   "outputs": [],
   "source": []
  },
  {
   "cell_type": "code",
   "execution_count": null,
   "id": "b172200c-afd5-443c-a7a9-67f56e745462",
   "metadata": {},
   "outputs": [],
   "source": []
  },
  {
   "cell_type": "code",
   "execution_count": null,
   "id": "ad7c383a-7932-47ef-b45f-8097adc029c7",
   "metadata": {},
   "outputs": [],
   "source": []
  },
  {
   "cell_type": "code",
   "execution_count": null,
   "id": "c5d87c35-93d7-4a76-b77a-914cc38c5710",
   "metadata": {},
   "outputs": [],
   "source": []
  },
  {
   "cell_type": "code",
   "execution_count": null,
   "id": "b10b55a9-88b1-44fa-bb5e-88fbde76bc19",
   "metadata": {},
   "outputs": [],
   "source": []
  },
  {
   "cell_type": "code",
   "execution_count": null,
   "id": "7b9f16c5-3e6d-4ff5-959d-a54b14ca7116",
   "metadata": {},
   "outputs": [],
   "source": []
  },
  {
   "cell_type": "code",
   "execution_count": null,
   "id": "bdc6338e-413c-47bb-8cc6-1eb148024580",
   "metadata": {},
   "outputs": [],
   "source": []
  },
  {
   "cell_type": "code",
   "execution_count": null,
   "id": "ad029d53-bce4-4f67-aa73-0468ce5b345a",
   "metadata": {},
   "outputs": [],
   "source": []
  },
  {
   "cell_type": "code",
   "execution_count": null,
   "id": "c3dde13a-2d27-4fc1-b0e4-6d2d3b1487da",
   "metadata": {},
   "outputs": [],
   "source": []
  },
  {
   "cell_type": "code",
   "execution_count": null,
   "id": "61ae5ee2-2242-496b-96ea-333e49e97c48",
   "metadata": {},
   "outputs": [],
   "source": []
  },
  {
   "cell_type": "code",
   "execution_count": null,
   "id": "4ff55abb-8deb-4c2c-9bcb-58710dcabfae",
   "metadata": {},
   "outputs": [],
   "source": []
  },
  {
   "cell_type": "code",
   "execution_count": null,
   "id": "b67be209-f09f-44d7-8cda-9ad26af734fd",
   "metadata": {},
   "outputs": [],
   "source": []
  },
  {
   "cell_type": "code",
   "execution_count": null,
   "id": "8b14c5a2-3ce2-4c73-be69-95141ebf0126",
   "metadata": {},
   "outputs": [],
   "source": []
  },
  {
   "cell_type": "code",
   "execution_count": null,
   "id": "217a47f3-c86c-4493-91ac-c21a8aa5faeb",
   "metadata": {},
   "outputs": [],
   "source": []
  },
  {
   "cell_type": "code",
   "execution_count": null,
   "id": "6ad11cca-63ef-4a6b-b369-aecae9ef9146",
   "metadata": {},
   "outputs": [],
   "source": []
  },
  {
   "cell_type": "code",
   "execution_count": null,
   "id": "e12bca8b-6f81-46ad-be42-d484cabe6f89",
   "metadata": {},
   "outputs": [],
   "source": []
  },
  {
   "cell_type": "code",
   "execution_count": null,
   "id": "62b0fc9c-7e2e-4bcd-a9d2-bada1694bc69",
   "metadata": {},
   "outputs": [],
   "source": []
  },
  {
   "cell_type": "code",
   "execution_count": null,
   "id": "9fc778fb-1d67-43c0-9044-6692f45fba19",
   "metadata": {},
   "outputs": [],
   "source": []
  },
  {
   "cell_type": "code",
   "execution_count": null,
   "id": "0cb5b100-4901-4821-98bc-717baea3438d",
   "metadata": {},
   "outputs": [],
   "source": []
  },
  {
   "cell_type": "code",
   "execution_count": null,
   "id": "78351341-cc11-4f18-b9c5-34b372ec2132",
   "metadata": {},
   "outputs": [],
   "source": []
  },
  {
   "cell_type": "code",
   "execution_count": null,
   "id": "b0f74f17-5010-4a88-a4f7-6bceb08fff31",
   "metadata": {},
   "outputs": [],
   "source": []
  },
  {
   "cell_type": "code",
   "execution_count": null,
   "id": "ce6ad14c-b284-4003-8fd9-228334643d12",
   "metadata": {},
   "outputs": [],
   "source": []
  },
  {
   "cell_type": "code",
   "execution_count": null,
   "id": "c493aa09-e56c-48d4-aa4e-cd8653e0809c",
   "metadata": {},
   "outputs": [],
   "source": []
  },
  {
   "cell_type": "code",
   "execution_count": null,
   "id": "9df28722-b7bc-4276-9066-0ce8eb7dace7",
   "metadata": {},
   "outputs": [],
   "source": []
  },
  {
   "cell_type": "code",
   "execution_count": null,
   "id": "82154241-0651-46ef-8f25-44d21aa6c795",
   "metadata": {},
   "outputs": [],
   "source": []
  },
  {
   "cell_type": "code",
   "execution_count": null,
   "id": "d12e805b-3ad3-482c-bcb1-3756e4648108",
   "metadata": {},
   "outputs": [],
   "source": []
  },
  {
   "cell_type": "code",
   "execution_count": null,
   "id": "d413f3b7-1394-4e84-a623-30b3eaaed498",
   "metadata": {},
   "outputs": [],
   "source": []
  },
  {
   "cell_type": "code",
   "execution_count": null,
   "id": "7660b4d3-a2cd-429f-88a4-8fd45cc75dc4",
   "metadata": {},
   "outputs": [],
   "source": []
  },
  {
   "cell_type": "code",
   "execution_count": null,
   "id": "a47431e7-ab98-462a-a209-9f9d304f6a0d",
   "metadata": {},
   "outputs": [],
   "source": []
  },
  {
   "cell_type": "code",
   "execution_count": null,
   "id": "95d7590b-71ec-4406-8ebf-8b46c700c6e2",
   "metadata": {},
   "outputs": [],
   "source": []
  },
  {
   "cell_type": "code",
   "execution_count": null,
   "id": "5ddaee34-5162-44fd-8756-1cf8a818162a",
   "metadata": {},
   "outputs": [],
   "source": []
  },
  {
   "cell_type": "code",
   "execution_count": null,
   "id": "fa18fd2f-379a-4955-aa3c-8b926139100a",
   "metadata": {},
   "outputs": [],
   "source": []
  },
  {
   "cell_type": "code",
   "execution_count": null,
   "id": "db62ce89-27ec-439c-9265-c647e4f90bff",
   "metadata": {},
   "outputs": [],
   "source": []
  },
  {
   "cell_type": "code",
   "execution_count": null,
   "id": "f8b62f4f-a13a-4219-97a2-5a22a30f4d19",
   "metadata": {},
   "outputs": [],
   "source": []
  },
  {
   "cell_type": "code",
   "execution_count": null,
   "id": "fea95e13-0900-46ed-ba98-2d9370f6438b",
   "metadata": {},
   "outputs": [],
   "source": []
  },
  {
   "cell_type": "code",
   "execution_count": null,
   "id": "148c80dc-6b30-42a0-a0f5-b191e07b46fd",
   "metadata": {},
   "outputs": [],
   "source": []
  },
  {
   "cell_type": "code",
   "execution_count": null,
   "id": "9ac82de1-3781-4e42-92ba-34d3bf08d778",
   "metadata": {},
   "outputs": [],
   "source": []
  },
  {
   "cell_type": "code",
   "execution_count": null,
   "id": "e6744910-3037-4a8a-a26b-ca414574c358",
   "metadata": {},
   "outputs": [],
   "source": []
  },
  {
   "cell_type": "code",
   "execution_count": null,
   "id": "4fdcd2bb-abf8-48f9-89cc-5ce62272d9a3",
   "metadata": {},
   "outputs": [],
   "source": []
  },
  {
   "cell_type": "code",
   "execution_count": null,
   "id": "25f9217b-f0e2-4c64-9879-5773c4bab52c",
   "metadata": {},
   "outputs": [],
   "source": []
  },
  {
   "cell_type": "code",
   "execution_count": null,
   "id": "8919b6b7-e7ef-4774-9a2a-58e38976569f",
   "metadata": {},
   "outputs": [],
   "source": []
  },
  {
   "cell_type": "code",
   "execution_count": null,
   "id": "13e81a59-b36e-40be-af9b-f6456a62e028",
   "metadata": {},
   "outputs": [],
   "source": []
  },
  {
   "cell_type": "code",
   "execution_count": null,
   "id": "4e1a589b-3190-475f-85ad-868e0eb720e9",
   "metadata": {},
   "outputs": [],
   "source": []
  },
  {
   "cell_type": "code",
   "execution_count": null,
   "id": "f82066a7-7f29-4858-8cad-9cec30f9d0cb",
   "metadata": {},
   "outputs": [],
   "source": []
  },
  {
   "cell_type": "code",
   "execution_count": null,
   "id": "8d1e81be-5dd5-4537-8439-9d7d301c5b87",
   "metadata": {},
   "outputs": [],
   "source": []
  },
  {
   "cell_type": "code",
   "execution_count": null,
   "id": "705317d1-2627-42f4-9976-502e83a66250",
   "metadata": {},
   "outputs": [],
   "source": []
  },
  {
   "cell_type": "code",
   "execution_count": null,
   "id": "618d1cb6-b68f-4d44-8169-e3a6f3b74f98",
   "metadata": {},
   "outputs": [],
   "source": []
  },
  {
   "cell_type": "code",
   "execution_count": null,
   "id": "357d2814-9310-4a53-928e-2b5ba6cd9109",
   "metadata": {},
   "outputs": [],
   "source": []
  },
  {
   "cell_type": "code",
   "execution_count": null,
   "id": "68407af4-9e3c-4a65-8a6c-82338c7f3479",
   "metadata": {},
   "outputs": [],
   "source": []
  },
  {
   "cell_type": "code",
   "execution_count": null,
   "id": "a6a8015b-d23e-460c-af1d-433c04192e13",
   "metadata": {},
   "outputs": [],
   "source": []
  },
  {
   "cell_type": "code",
   "execution_count": null,
   "id": "2921a8fa-5f54-401f-8a30-9a51aeb2f928",
   "metadata": {},
   "outputs": [],
   "source": []
  },
  {
   "cell_type": "code",
   "execution_count": null,
   "id": "ceb15e69-ebcc-4bb5-962c-3090e1a0aac4",
   "metadata": {},
   "outputs": [],
   "source": []
  },
  {
   "cell_type": "code",
   "execution_count": null,
   "id": "8fa1dc4c-3d61-45b8-a974-a7803b818437",
   "metadata": {},
   "outputs": [],
   "source": []
  },
  {
   "cell_type": "code",
   "execution_count": null,
   "id": "06103c18-64e6-4826-8551-d9b2ebbd72f5",
   "metadata": {},
   "outputs": [],
   "source": []
  },
  {
   "cell_type": "code",
   "execution_count": null,
   "id": "db53007e-b0b7-4c55-9dd5-7992dde9eb12",
   "metadata": {},
   "outputs": [],
   "source": []
  },
  {
   "cell_type": "code",
   "execution_count": null,
   "id": "45e368d8-b364-4bc0-80e2-d9f626e2843d",
   "metadata": {},
   "outputs": [],
   "source": []
  },
  {
   "cell_type": "code",
   "execution_count": null,
   "id": "47b8eba7-fe05-41fe-a0f5-7ea419481e7f",
   "metadata": {},
   "outputs": [],
   "source": []
  },
  {
   "cell_type": "code",
   "execution_count": null,
   "id": "83bcd0ff-3c13-4e4a-85c1-2118000b48e0",
   "metadata": {},
   "outputs": [],
   "source": []
  },
  {
   "cell_type": "code",
   "execution_count": null,
   "id": "1a77e966-972b-4e60-a7d9-47ea0a229690",
   "metadata": {},
   "outputs": [],
   "source": []
  },
  {
   "cell_type": "code",
   "execution_count": null,
   "id": "5cd95fea-faf1-476e-b88e-b3b49a078621",
   "metadata": {},
   "outputs": [],
   "source": []
  },
  {
   "cell_type": "code",
   "execution_count": null,
   "id": "57bf63ab-7765-44d7-88b5-a6291181806f",
   "metadata": {},
   "outputs": [],
   "source": []
  },
  {
   "cell_type": "code",
   "execution_count": null,
   "id": "104bd663-fdf7-40bd-955a-648f43b5c30d",
   "metadata": {},
   "outputs": [],
   "source": []
  },
  {
   "cell_type": "code",
   "execution_count": null,
   "id": "4220f014-5afb-4052-bab8-f5b2675dc1bc",
   "metadata": {},
   "outputs": [],
   "source": []
  },
  {
   "cell_type": "code",
   "execution_count": null,
   "id": "01287702-9f8d-4fad-b38a-c83851b76616",
   "metadata": {},
   "outputs": [],
   "source": []
  }
 ],
 "metadata": {
  "kernelspec": {
   "display_name": "Python 3 (ipykernel)",
   "language": "python",
   "name": "python3"
  },
  "language_info": {
   "codemirror_mode": {
    "name": "ipython",
    "version": 3
   },
   "file_extension": ".py",
   "mimetype": "text/x-python",
   "name": "python",
   "nbconvert_exporter": "python",
   "pygments_lexer": "ipython3",
   "version": "3.12.4"
  }
 },
 "nbformat": 4,
 "nbformat_minor": 5
}
